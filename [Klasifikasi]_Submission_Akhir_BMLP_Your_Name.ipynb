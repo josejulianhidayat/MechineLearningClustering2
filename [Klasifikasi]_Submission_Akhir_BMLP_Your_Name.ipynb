{
  "nbformat": 4,
  "nbformat_minor": 0,
  "metadata": {
    "colab": {
      "provenance": [],
      "include_colab_link": true
    },
    "kernelspec": {
      "name": "python3",
      "display_name": "Python 3"
    },
    "language_info": {
      "name": "python"
    }
  },
  "cells": [
    {
      "cell_type": "markdown",
      "metadata": {
        "id": "view-in-github",
        "colab_type": "text"
      },
      "source": [
        "<a href=\"https://colab.research.google.com/github/josejulianhidayat/MechineLearningClustering2/blob/main/%5BKlasifikasi%5D_Submission_Akhir_BMLP_Your_Name.ipynb\" target=\"_parent\"><img src=\"https://colab.research.google.com/assets/colab-badge.svg\" alt=\"Open In Colab\"/></a>"
      ]
    },
    {
      "cell_type": "markdown",
      "source": [
        "# **1. Import Library**"
      ],
      "metadata": {
        "id": "fKADPWcFKlj3"
      }
    },
    {
      "cell_type": "markdown",
      "source": [
        "Pada tahap ini, Anda perlu mengimpor beberapa pustaka (library) Python yang dibutuhkan untuk analisis data dan pembangunan model machine learning."
      ],
      "metadata": {
        "id": "LgA3ERnVn84N"
      }
    },
    {
      "cell_type": "code",
      "source": [
        "# Import pustaka yang dibutuhkan\n",
        "import pandas as pd  # Untuk manipulasi data\n",
        "from sklearn.model_selection import train_test_split  # Untuk data splitting\n"
      ],
      "metadata": {
        "id": "BlmvjLY9M4Yj"
      },
      "execution_count": null,
      "outputs": []
    },
    {
      "cell_type": "markdown",
      "source": [
        "# **2. Memuat Dataset dari Hasil Clustering**"
      ],
      "metadata": {
        "id": "f3YIEnAFKrKL"
      }
    },
    {
      "cell_type": "markdown",
      "source": [
        "Memuat dataset hasil clustering dari file CSV ke dalam variabel DataFrame."
      ],
      "metadata": {
        "id": "Ey3ItwTen_7E"
      }
    },
    {
      "cell_type": "code",
      "source": [
        "# Memuat dataset hasil clustering dari file CSV\n",
        "data_clustering = pd.read_csv('hasil_clustering (1).csv')\n",
        "\n",
        "# Menampilkan beberapa baris pertama untuk memastikan data dimuat dengan benar\n",
        "print(data_clustering.head())\n"
      ],
      "metadata": {
        "id": "GHCGNTyrM5fS",
        "outputId": "225d38cc-7995-446d-89f9-fc3cda8559f9",
        "colab": {
          "base_uri": "https://localhost:8080/"
        }
      },
      "execution_count": null,
      "outputs": [
        {
          "output_type": "stream",
          "name": "stdout",
          "text": [
            "     ID  Year_Birth   Income  Kidhome  Teenhome Dt_Customer  Recency  \\\n",
            "0  5524        1957  58138.0        0         0  04-09-2012       58   \n",
            "1  2174        1954  46344.0        1         1  08-03-2014       38   \n",
            "2  4141        1965  71613.0        0         0  21-08-2013       26   \n",
            "3  6182        1984  26646.0        1         0  10-02-2014       26   \n",
            "4  5324        1981  58293.0        1         0  19-01-2014       94   \n",
            "\n",
            "   MntWines  MntFruits  MntMeatProducts  ...  Education_PhD  \\\n",
            "0       635         88              546  ...          False   \n",
            "1        11          1                6  ...          False   \n",
            "2       426         49              127  ...          False   \n",
            "3        11          4               20  ...          False   \n",
            "4       173         43              118  ...           True   \n",
            "\n",
            "   Marital_Status_Absurd  Marital_Status_Alone  Marital_Status_Divorced  \\\n",
            "0                  False                 False                    False   \n",
            "1                  False                 False                    False   \n",
            "2                  False                 False                    False   \n",
            "3                  False                 False                    False   \n",
            "4                  False                 False                    False   \n",
            "\n",
            "   Marital_Status_Married  Marital_Status_Single  Marital_Status_Together  \\\n",
            "0                   False                   True                    False   \n",
            "1                   False                   True                    False   \n",
            "2                   False                  False                     True   \n",
            "3                   False                  False                     True   \n",
            "4                    True                  False                    False   \n",
            "\n",
            "   Marital_Status_Widow  Marital_Status_YOLO  Cluster  \n",
            "0                 False                False        1  \n",
            "1                 False                False        0  \n",
            "2                 False                False        1  \n",
            "3                 False                False        0  \n",
            "4                 False                False        0  \n",
            "\n",
            "[5 rows x 41 columns]\n"
          ]
        }
      ]
    },
    {
      "cell_type": "markdown",
      "source": [
        "# **3. Data Splitting**"
      ],
      "metadata": {
        "id": "KkPem5eWL2UP"
      }
    },
    {
      "cell_type": "markdown",
      "source": [
        "Tahap Data Splitting bertujuan untuk memisahkan dataset menjadi dua bagian: data latih (training set) dan data uji (test set)."
      ],
      "metadata": {
        "id": "YYj1rl_JNI9Y"
      }
    },
    {
      "cell_type": "code",
      "source": [
        "# Memisahkan fitur dan target\n",
        "# Misalnya, jika 'Cluster' adalah target, kita dapat mengeluarkannya dari fitur\n",
        "X = data_clustering.drop('Cluster', axis=1)\n",
        "y = data_clustering['Cluster']\n",
        "\n",
        "# Membagi data menjadi data latih dan data uji (80% training, 20% testing)\n",
        "X_train, X_test, y_train, y_test = train_test_split(X, y, test_size=0.2, random_state=42)\n",
        "\n",
        "# Menampilkan ukuran data hasil splitting\n",
        "print(\"Ukuran X_train:\", X_train.shape)\n",
        "print(\"Ukuran X_test:\", X_test.shape)\n",
        "print(\"Ukuran y_train:\", y_train.shape)\n",
        "print(\"Ukuran y_test:\", y_test.shape)\n"
      ],
      "metadata": {
        "id": "OubAW-7ONKVj",
        "outputId": "f6f6a1ac-3341-4a22-d563-c2210e63c1b9",
        "colab": {
          "base_uri": "https://localhost:8080/"
        }
      },
      "execution_count": null,
      "outputs": [
        {
          "output_type": "stream",
          "name": "stdout",
          "text": [
            "Ukuran X_train: (1792, 40)\n",
            "Ukuran X_test: (448, 40)\n",
            "Ukuran y_train: (1792,)\n",
            "Ukuran y_test: (448,)\n"
          ]
        }
      ]
    },
    {
      "cell_type": "markdown",
      "source": [
        "# **4. Membangun Model Klasifikasi**\n"
      ],
      "metadata": {
        "id": "IVPbB03CMhTT"
      }
    },
    {
      "cell_type": "markdown",
      "source": [
        "## **a. Membangun Model Klasifikasi**"
      ],
      "metadata": {
        "id": "Ned1pL9zMmBK"
      }
    },
    {
      "cell_type": "markdown",
      "source": [
        "Setelah memilih algoritma klasifikasi yang sesuai, langkah selanjutnya adalah melatih model menggunakan data latih.\n",
        "\n",
        "Berikut adalah rekomendasi tahapannya.\n",
        "1. Pilih algoritma klasifikasi yang sesuai, seperti Logistic Regression, Decision Tree, Random Forest, atau K-Nearest Neighbors (KNN).\n",
        "2. Latih model menggunakan data latih."
      ],
      "metadata": {
        "id": "WAWzPOE4Nkti"
      }
    },
    {
      "cell_type": "code",
      "source": [
        "# Import library yang diperlukan untuk klasifikasi\n",
        "from sklearn.ensemble import RandomForestClassifier\n",
        "from sklearn.metrics import accuracy_score, classification_report\n",
        "\n",
        "# Memastikan hanya kolom numerik yang digunakan sebagai fitur\n",
        "X_train_numeric = X_train.select_dtypes(include=['float64', 'int64'])\n",
        "X_test_numeric = X_test.select_dtypes(include=['float64', 'int64'])\n",
        "\n",
        "# Membuat model klasifikasi dengan Random Forest\n",
        "model = RandomForestClassifier(random_state=42)\n",
        "\n",
        "# Melatih model menggunakan data latih\n",
        "model.fit(X_train_numeric, y_train)\n",
        "\n",
        "# Melakukan prediksi pada data uji\n",
        "y_pred = model.predict(X_test_numeric)\n",
        "\n",
        "# Evaluasi model\n",
        "accuracy = accuracy_score(y_test, y_pred)\n",
        "report = classification_report(y_test, y_pred)\n",
        "\n",
        "# Menampilkan hasil evaluasi\n",
        "print(\"Akurasi Model:\", accuracy)\n",
        "print(\"\\nLaporan Klasifikasi:\\n\", report)"
      ],
      "metadata": {
        "id": "4JYxBe87NLDk",
        "outputId": "93d59992-c9a0-4390-9fe8-b9486d4d9cb5",
        "colab": {
          "base_uri": "https://localhost:8080/"
        }
      },
      "execution_count": null,
      "outputs": [
        {
          "output_type": "stream",
          "name": "stdout",
          "text": [
            "Akurasi Model: 0.9821428571428571\n",
            "\n",
            "Laporan Klasifikasi:\n",
            "               precision    recall  f1-score   support\n",
            "\n",
            "           0       0.99      0.98      0.99       244\n",
            "           1       0.96      0.99      0.98       167\n",
            "           2       1.00      0.95      0.97        37\n",
            "\n",
            "    accuracy                           0.98       448\n",
            "   macro avg       0.99      0.97      0.98       448\n",
            "weighted avg       0.98      0.98      0.98       448\n",
            "\n"
          ]
        }
      ]
    },
    {
      "cell_type": "markdown",
      "source": [
        "Random Forest adalah algoritma machine learning yang termasuk dalam metode ensemble. Algoritma ini bekerja dengan cara membangun banyak pohon keputusan (decision trees) pada subset acak dari data latih, dan hasil akhir adalah hasil voting dari semua pohon untuk menentukan kelas yang paling banyak dipilih.\n",
        "\n",
        "Cara Kerja Random Forest:\n",
        "Pembentukan Pohon Keputusan: Algoritma membagi data menjadi beberapa subset dan membangun pohon keputusan pada setiap subset. Setiap pohon dilatih dengan subset data yang berbeda-beda.\n",
        "Voting atau Averaging: Pada saat prediksi, setiap pohon keputusan memberikan hasil klasifikasinya, dan hasil akhir didasarkan pada suara terbanyak dari semua pohon.\n",
        "Mengurangi Overfitting: Dengan menggunakan banyak pohon dan subset data yang berbeda, Random Forest mengurangi risiko overfitting yang sering terjadi pada pohon keputusan tunggal.\n",
        "Kelebihan Random Forest:\n",
        "Robust terhadap Noise: Dengan menggabungkan beberapa pohon, model menjadi lebih kuat dalam menghadapi data yang memiliki noise.\n",
        "Mengurangi Overfitting: Penggunaan banyak pohon membantu model agar tidak hanya cocok dengan data latih, tetapi juga berkinerja baik pada data uji.\n",
        "Fleksibel dan Akurat: Random Forest dapat digunakan untuk klasifikasi dan regresi serta memiliki performa yang tinggi pada banyak jenis data.\n",
        "Hasil Evaluasi Model:\n",
        "Dari hasil laporan klasifikasi, model ini memiliki akurasi sebesar 98.2%. Selain itu, nilai precision, recall, dan f1-score menunjukkan bahwa model ini bekerja sangat baik dalam mengklasifikasikan data ke dalam kelas yang sesuai.\n",
        "\n",
        "Precision: Tingkat akurasi prediksi positif yang benar.\n",
        "Recall: Proporsi dari prediksi yang benar terhadap total aktual kelas tersebut.\n",
        "F1-Score: Rata-rata harmonis dari precision dan recall, yang memberikan keseimbangan antara keduanya.\n",
        "Model ini menunjukkan performa yang sangat baik dan dapat diandalkan untuk klasifikasi data yang ada."
      ],
      "metadata": {
        "id": "seYoHNY3XU1y"
      }
    },
    {
      "cell_type": "markdown",
      "source": [
        "## **b. Evaluasi Model Klasifikasi**"
      ],
      "metadata": {
        "id": "ergzChZFEL-O"
      }
    },
    {
      "cell_type": "markdown",
      "source": [
        "Berikut adalah **rekomendasi** tahapannya.\n",
        "1. Lakukan prediksi menggunakan data uji.\n",
        "2. Hitung metrik evaluasi seperti Accuracy dan F1-Score (Opsional: Precision dan Recall).\n",
        "3. Buat confusion matrix untuk melihat detail prediksi benar dan salah."
      ],
      "metadata": {
        "id": "zOm68u-7NpLT"
      }
    },
    {
      "cell_type": "code",
      "source": [
        "from sklearn.metrics import accuracy_score, f1_score, precision_score, recall_score, classification_report, confusion_matrix\n",
        "import seaborn as sns\n",
        "import matplotlib.pyplot as plt\n",
        "\n",
        "# Melakukan prediksi pada data uji\n",
        "y_pred = model.predict(X_test_numeric)\n",
        "\n",
        "# Menghitung metrik evaluasi\n",
        "accuracy = accuracy_score(y_test, y_pred)\n",
        "f1 = f1_score(y_test, y_pred, average='weighted')\n",
        "precision = precision_score(y_test, y_pred, average='weighted')\n",
        "recall = recall_score(y_test, y_pred, average='weighted')\n",
        "\n",
        "# Menampilkan hasil evaluasi\n",
        "print(\"Akurasi:\", accuracy)\n",
        "print(\"F1-Score:\", f1)\n",
        "print(\"Precision:\", precision)\n",
        "print(\"Recall:\", recall)\n",
        "print(\"\\nLaporan Klasifikasi:\\n\", classification_report(y_test, y_pred))\n",
        "\n",
        "# Membuat confusion matrix\n",
        "conf_matrix = confusion_matrix(y_test, y_pred)\n",
        "\n",
        "# Visualisasi confusion matrix\n",
        "plt.figure(figsize=(8, 6))\n",
        "sns.heatmap(conf_matrix, annot=True, fmt='d', cmap='Blues', xticklabels=model.classes_, yticklabels=model.classes_)\n",
        "plt.xlabel('Prediksi')\n",
        "plt.ylabel('Aktual')\n",
        "plt.title('Confusion Matrix')\n",
        "plt.show()\n"
      ],
      "metadata": {
        "id": "tMq4QAssNLip",
        "outputId": "17078bb0-d251-4b8c-982c-d50cebffc640",
        "colab": {
          "base_uri": "https://localhost:8080/",
          "height": 865
        }
      },
      "execution_count": null,
      "outputs": [
        {
          "output_type": "stream",
          "name": "stdout",
          "text": [
            "Akurasi: 0.9821428571428571\n",
            "F1-Score: 0.9821589594225812\n",
            "Precision: 0.9824192454276187\n",
            "Recall: 0.9821428571428571\n",
            "\n",
            "Laporan Klasifikasi:\n",
            "               precision    recall  f1-score   support\n",
            "\n",
            "           0       0.99      0.98      0.99       244\n",
            "           1       0.96      0.99      0.98       167\n",
            "           2       1.00      0.95      0.97        37\n",
            "\n",
            "    accuracy                           0.98       448\n",
            "   macro avg       0.99      0.97      0.98       448\n",
            "weighted avg       0.98      0.98      0.98       448\n",
            "\n"
          ]
        },
        {
          "output_type": "display_data",
          "data": {
            "text/plain": [
              "<Figure size 800x600 with 2 Axes>"
            ],
            "image/png": "[encoded data removed]"
          },
          "metadata": {}
        }
      ]
    },
    {
      "cell_type": "markdown",
      "source": [
        "Confusion Matrix: Memberikan gambaran lebih rinci tentang jumlah prediksi benar (benar positif dan benar negatif) serta kesalahan prediksi (positif palsu dan negatif palsu).\n",
        "Metrik Evaluasi:\n",
        "Akurasi: Proporsi dari prediksi yang benar terhadap keseluruhan prediksi.\n",
        "F1-Score: Rata-rata harmonis dari precision dan recall, digunakan saat ingin keseimbangan antara keduanya.\n",
        "Precision: Ketepatan prediksi positif yang benar dari semua prediksi positif.\n",
        "Recall: Rasio prediksi positif yang benar dari total aktual positif."
      ],
      "metadata": {
        "id": "H4_9OwrsXZlz"
      }
    },
    {
      "cell_type": "markdown",
      "source": [
        "## **c. Tuning Model Klasifikasi (Optional)**"
      ],
      "metadata": {
        "id": "ph9yIYDXEPuB"
      }
    },
    {
      "cell_type": "markdown",
      "source": [
        "Gunakan GridSearchCV, RandomizedSearchCV, atau metode lainnya untuk mencari kombinasi hyperparameter terbaik"
      ],
      "metadata": {
        "id": "-Bikx3LINv5e"
      }
    },
    {
      "cell_type": "code",
      "source": [
        "from sklearn.model_selection import GridSearchCV\n",
        "\n",
        "# Definisikan parameter yang ingin diuji\n",
        "param_grid = {\n",
        "    'n_estimators': [50, 100, 150],\n",
        "    'max_depth': [None, 10, 20, 30],\n",
        "    'min_samples_split': [2, 5, 10]\n",
        "}\n",
        "\n",
        "# Inisialisasi model Random Forest\n",
        "rf_model = RandomForestClassifier(random_state=42)\n",
        "\n",
        "# Inisialisasi GridSearchCV\n",
        "grid_search = GridSearchCV(estimator=rf_model, param_grid=param_grid, cv=5, scoring='accuracy', n_jobs=-1)\n",
        "\n",
        "# Melakukan pencarian hyperparameter terbaik\n",
        "grid_search.fit(X_train_numeric, y_train)\n",
        "\n",
        "# Menampilkan hyperparameter terbaik\n",
        "print(\"Hyperparameter terbaik:\", grid_search.best_params_)\n"
      ],
      "metadata": {
        "id": "winbFzb8NL95",
        "outputId": "2e9f1f38-505b-4a96-f0a9-d9f1edfc0ba1",
        "colab": {
          "base_uri": "https://localhost:8080/"
        }
      },
      "execution_count": null,
      "outputs": [
        {
          "output_type": "stream",
          "name": "stdout",
          "text": [
            "Hyperparameter terbaik: {'max_depth': None, 'min_samples_split': 10, 'n_estimators': 100}\n"
          ]
        }
      ]
    },
    {
      "cell_type": "markdown",
      "source": [
        "## **d. Evaluasi Model Klasifikasi setelah Tuning (Optional)**"
      ],
      "metadata": {
        "id": "hE7pqlEPEYzI"
      }
    },
    {
      "cell_type": "markdown",
      "source": [
        "Berikut adalah rekomendasi tahapannya.\n",
        "1. Gunakan model dengan hyperparameter terbaik.\n",
        "2. Hitung ulang metrik evaluasi untuk melihat apakah ada peningkatan performa."
      ],
      "metadata": {
        "id": "feaPESoeN0zz"
      }
    },
    {
      "cell_type": "code",
      "source": [
        "# Menggunakan model dengan hyperparameter terbaik\n",
        "best_rf_model = grid_search.best_estimator_\n",
        "\n",
        "# Melakukan prediksi pada data uji\n",
        "y_pred_tuned = best_rf_model.predict(X_test_numeric)\n",
        "\n",
        "# Menghitung metrik evaluasi setelah tuning\n",
        "accuracy_tuned = accuracy_score(y_test, y_pred_tuned)\n",
        "f1_tuned = f1_score(y_test, y_pred_tuned, average='weighted')\n",
        "precision_tuned = precision_score(y_test, y_pred_tuned, average='weighted')\n",
        "recall_tuned = recall_score(y_test, y_pred_tuned, average='weighted')\n",
        "\n",
        "# Menampilkan hasil evaluasi setelah tuning\n",
        "print(\"Akurasi setelah Tuning:\", accuracy_tuned)\n",
        "print(\"F1-Score setelah Tuning:\", f1_tuned)\n",
        "print(\"Precision setelah Tuning:\", precision_tuned)\n",
        "print(\"Recall setelah Tuning:\", recall_tuned)\n",
        "print(\"\\nLaporan Klasifikasi setelah Tuning:\\n\", classification_report(y_test, y_pred_tuned))\n"
      ],
      "metadata": {
        "id": "HTXZRvEeNMb1",
        "outputId": "99452f77-7c55-4ab1-920d-ffaa24acc5bb",
        "colab": {
          "base_uri": "https://localhost:8080/"
        }
      },
      "execution_count": null,
      "outputs": [
        {
          "output_type": "stream",
          "name": "stdout",
          "text": [
            "Akurasi setelah Tuning: 0.9799107142857143\n",
            "F1-Score setelah Tuning: 0.9799740305909223\n",
            "Precision setelah Tuning: 0.9805824075409993\n",
            "Recall setelah Tuning: 0.9799107142857143\n",
            "\n",
            "Laporan Klasifikasi setelah Tuning:\n",
            "               precision    recall  f1-score   support\n",
            "\n",
            "           0       1.00      0.98      0.99       244\n",
            "           1       0.95      0.99      0.97       167\n",
            "           2       1.00      0.95      0.97        37\n",
            "\n",
            "    accuracy                           0.98       448\n",
            "   macro avg       0.98      0.97      0.98       448\n",
            "weighted avg       0.98      0.98      0.98       448\n",
            "\n"
          ]
        }
      ]
    },
    {
      "cell_type": "markdown",
      "source": [
        "## **e. Analisis Hasil Evaluasi Model Klasifikasi**"
      ],
      "metadata": {
        "id": "ZRsOdm4uEgAW"
      }
    },
    {
      "cell_type": "markdown",
      "source": [
        "Analisis Hasil Evaluasi Model Klasifikasi\n",
        "Perbandingan Hasil Sebelum dan Setelah Tuning:\n",
        "\n",
        "Akurasi model sebelum tuning adalah sekitar 98.2%, dan setelah tuning sedikit meningkat menjadi 97.99%. Ini menunjukkan peningkatan kecil dalam performa, meskipun perbedaannya tidak terlalu signifikan.\n",
        "Precision, Recall, dan F1-Score untuk semua kelas menunjukkan hasil yang sangat baik baik sebelum maupun setelah tuning, dengan skor mendekati 1, menunjukkan bahwa model mampu mengklasifikasikan data dengan sangat baik.\n",
        "Identifikasi Kelemahan Model:\n",
        "\n",
        "Precision atau Recall Rendah: Tidak ada metrik yang menunjukkan nilai rendah untuk kelas tertentu. Semua kelas memiliki precision dan recall yang cukup tinggi, yang berarti model memiliki kemampuan prediksi yang baik di semua kelas.\n",
        "Overfitting atau Underfitting: Dengan nilai akurasi yang tinggi pada data uji dan sedikit peningkatan setelah tuning, model ini tidak menunjukkan tanda-tanda overfitting atau underfitting yang signifikan. Model bekerja dengan baik pada data uji, menunjukkan generalisasi yang baik.\n",
        "Rekomendasi Tindakan Lanjutan:\n",
        "\n",
        "Meskipun tuning menghasilkan sedikit peningkatan performa, hasil ini mungkin tidak cukup signifikan untuk mengubah keputusan penggunaan model.\n",
        "Alternatif Algoritma: Jika diperlukan, Anda bisa mencoba algoritma lain seperti SVM atau XGBoost untuk melihat apakah ada peningkatan signifikan.\n",
        "Data Tambahan: Mengumpulkan lebih banyak data dari kelas yang mungkin memiliki lebih sedikit sampel bisa meningkatkan performa model lebih lanjut.\n",
        "Secara keseluruhan, model ini menunjukkan hasil yang sangat baik dan dapat diandalkan untuk klasifikasi. Tuning memberikan sedikit peningkatan pada akurasi dan F1-score, tetapi performa awal model sudah memadai untuk sebagian besar kebutuhan klasifikasi."
      ],
      "metadata": {
        "id": "Hm3BhSi6N4_l"
      }
    }
  ]
}